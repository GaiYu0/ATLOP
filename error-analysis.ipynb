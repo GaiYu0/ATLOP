{
 "cells": [
  {
   "cell_type": "code",
   "execution_count": 1,
   "metadata": {},
   "outputs": [],
   "source": [
    "from collections import *\n",
    "from itertools import *\n",
    "import json\n",
    "import random\n",
    "import os\n",
    "\n",
    "from evaluation import official_evaluate"
   ]
  },
  {
   "cell_type": "code",
   "execution_count": 2,
   "metadata": {},
   "outputs": [],
   "source": [
    "meta_dir = 'meta'\n",
    "data_dir = 'dataset/docred'\n",
    "pred_dir = 'main_roberta/dev-result.json'\n",
    "\n",
    "rel2id = json.load(open(os.path.join(meta_dir, 'rel2id.json')))\n",
    "id2rel = {val : key for key, val in rel2id.items()}\n",
    "rel2txt = json.load(open(os.path.join(data_dir, 'rel_info.json')))\n",
    "\n",
    "truth = json.load(open(os.path.join(data_dir, 'dev.json')))\n",
    "docs = {d['title'] : (d['labels'], d['sents'], d['vertexSet']) for d in truth}\n",
    "\n",
    "predictions = json.load(open(pred_dir))\n",
    "predictions_by_title = defaultdict(list)\n",
    "for d in predictions:\n",
    "    predictions_by_title[d['title']].append((d['h_idx'], d['t_idx'], d['r']))"
   ]
  },
  {
   "cell_type": "code",
   "execution_count": 3,
   "metadata": {},
   "outputs": [
    {
     "data": {
      "text/plain": [
       "(0.632, 0, 0.6127906229917074, 0.5691080469257532)"
      ]
     },
     "execution_count": 3,
     "metadata": {},
     "output_type": "execute_result"
    }
   ],
   "source": [
    "official_evaluate(predictions, data_dir)"
   ]
  },
  {
   "cell_type": "code",
   "execution_count": 4,
   "metadata": {},
   "outputs": [
    {
     "name": "stdout",
     "output_type": "stream",
     "text": [
      "\u001b[0m 0 \u001b[0m\t\u001b[1m 1 \u001b[0m\t\u001b[2m 2 \u001b[0m\t\u001b[3m 3 \u001b[0m\t\u001b[4m 4 \u001b[0m\t\u001b[5m 5 \u001b[0m\t\u001b[6m 6 \u001b[0m\t\u001b[7m 7 \u001b[0m\t\u001b[8m 8 \u001b[0m\t\u001b[9m 9 \u001b[0m\t\u001b[10m 10 \u001b[0m\t\u001b[11m 11 \u001b[0m\t\u001b[12m 12 \u001b[0m\t\u001b[13m 13 \u001b[0m\t\u001b[14m 14 \u001b[0m\t\u001b[15m 15 \u001b[0m\t\u001b[16m 16 \u001b[0m\t\u001b[17m 17 \u001b[0m\t\u001b[18m 18 \u001b[0m\t\u001b[19m 19 \u001b[0m\t\u001b[20m 20 \u001b[0m\t\u001b[21m 21 \u001b[0m\t\u001b[22m 22 \u001b[0m\t\u001b[23m 23 \u001b[0m\t\u001b[24m 24 \u001b[0m\t\u001b[25m 25 \u001b[0m\t\u001b[26m 26 \u001b[0m\t\u001b[27m 27 \u001b[0m\t\u001b[28m 28 \u001b[0m\t\u001b[29m 29 \u001b[0m\t\u001b[30m 30 \u001b[0m\t\u001b[31m 31 \u001b[0m\t\u001b[32m 32 \u001b[0m\t\u001b[33m 33 \u001b[0m\t\u001b[34m 34 \u001b[0m\t\u001b[35m 35 \u001b[0m\t\u001b[36m 36 \u001b[0m\t\u001b[37m 37 \u001b[0m\t\u001b[38m 38 \u001b[0m\t\u001b[39m 39 \u001b[0m\t\u001b[40m 40 \u001b[0m\t\u001b[41m 41 \u001b[0m\t\u001b[42m 42 \u001b[0m\t\u001b[43m 43 \u001b[0m\t\u001b[44m 44 \u001b[0m\t\u001b[45m 45 \u001b[0m\t\u001b[46m 46 \u001b[0m\t\u001b[47m 47 \u001b[0m\t\u001b[48m 48 \u001b[0m\t\u001b[49m 49 \u001b[0m\t\u001b[50m 50 \u001b[0m\t\u001b[51m 51 \u001b[0m\t\u001b[52m 52 \u001b[0m\t\u001b[53m 53 \u001b[0m\t\u001b[54m 54 \u001b[0m\t\u001b[55m 55 \u001b[0m\t\u001b[56m 56 \u001b[0m\t\u001b[57m 57 \u001b[0m\t\u001b[58m 58 \u001b[0m\t\u001b[59m 59 \u001b[0m\t\u001b[60m 60 \u001b[0m\t\u001b[61m 61 \u001b[0m\t\u001b[62m 62 \u001b[0m\t\u001b[63m 63 \u001b[0m\t\u001b[64m 64 \u001b[0m\t\u001b[65m 65 \u001b[0m\t\u001b[66m 66 \u001b[0m\t\u001b[67m 67 \u001b[0m\t\u001b[68m 68 \u001b[0m\t\u001b[69m 69 \u001b[0m\t\u001b[70m 70 \u001b[0m\t\u001b[71m 71 \u001b[0m\t\u001b[72m 72 \u001b[0m\t\u001b[73m 73 \u001b[0m\t\u001b[74m 74 \u001b[0m\t\u001b[75m 75 \u001b[0m\t\u001b[76m 76 \u001b[0m\t\u001b[77m 77 \u001b[0m\t\u001b[78m 78 \u001b[0m\t\u001b[79m 79 \u001b[0m\t\u001b[80m 80 \u001b[0m\t\u001b[81m 81 \u001b[0m\t\u001b[82m 82 \u001b[0m\t\u001b[83m 83 \u001b[0m\t\u001b[84m 84 \u001b[0m\t\u001b[85m 85 \u001b[0m\t\u001b[86m 86 \u001b[0m\t\u001b[87m 87 \u001b[0m\t\u001b[88m 88 \u001b[0m\t\u001b[89m 89 \u001b[0m\t\u001b[90m 90 \u001b[0m\t\u001b[91m 91 \u001b[0m\t\u001b[92m 92 \u001b[0m\t\u001b[93m 93 \u001b[0m\t\u001b[94m 94 \u001b[0m\t\u001b[95m 95 \u001b[0m\t\u001b[96m 96 \u001b[0m\t\u001b[97m 97 \u001b[0m\t\u001b[98m 98 \u001b[0m\t\u001b[99m 99 \u001b[0m\t\u001b[100m 100 \u001b[0m\t\u001b[101m 101 \u001b[0m\t\u001b[102m 102 \u001b[0m\t\u001b[103m 103 \u001b[0m\t\u001b[104m 104 \u001b[0m\t\u001b[105m 105 \u001b[0m\t\u001b[106m 106 \u001b[0m\t\u001b[107m 107 \u001b[0m\t\u001b[108m 108 \u001b[0m\t\u001b[109m 109 \u001b[0m\t\u001b[110m 110 \u001b[0m\t\u001b[111m 111 \u001b[0m\t\u001b[112m 112 \u001b[0m\t\u001b[113m 113 \u001b[0m\t\u001b[114m 114 \u001b[0m\t\u001b[115m 115 \u001b[0m\t\u001b[116m 116 \u001b[0m\t\u001b[117m 117 \u001b[0m\t\u001b[118m 118 \u001b[0m\t\u001b[119m 119 \u001b[0m\t\u001b[120m 120 \u001b[0m\t\u001b[121m 121 \u001b[0m\t\u001b[122m 122 \u001b[0m\t\u001b[123m 123 \u001b[0m\t\u001b[124m 124 \u001b[0m\t\u001b[125m 125 \u001b[0m\t\u001b[126m 126 \u001b[0m\t\u001b[127m 127 \u001b[0m\t"
     ]
    }
   ],
   "source": [
    "ENDC = '\\033[0m'\n",
    "for i in range(128):\n",
    "    print(f'\\033[{i}m', i, ENDC, end='\\t')"
   ]
  },
  {
   "cell_type": "code",
   "execution_count": 5,
   "metadata": {},
   "outputs": [
    {
     "name": "stdout",
     "output_type": "stream",
     "text": [
      "Velocifero\n",
      "\u001b[31mVelocifero\u001b[0m is the fourth studio album by \u001b[31mEnglish\u001b[0m electronic music band \u001b[31mLadytron\u001b[0m and their first to be released by \u001b[31mNettwerk\u001b[0m . The album was made available on the \u001b[31miTunes Store\u001b[0m as of \u001b[31m19 May 2008\u001b[0m , followed by a physical release on \u001b[31m2 June\u001b[0m in the \u001b[31mUnited Kingdom\u001b[0m and on \u001b[31m3 June\u001b[0m elsewhere . \u001b[31mVelocifero\u001b[0m peaked at number 75 on the \u001b[31mUK Albums Chart\u001b[0m , becoming the band 's second highest - charting album to date in the \u001b[31mUK\u001b[0m ( after \u001b[31mGravity the Seducer\u001b[0m reached number 72 in \u001b[31m2011\u001b[0m ) . It was also their first album to chart on the \u001b[31mUS\u001b[0m \u001b[31mBillboard 200\u001b[0m , reaching number 131 . According to band member \u001b[31mReuben Wu\u001b[0m , \" \u001b[31mvelocifero\u001b[0m \" literally means \" bringer of speed \" , and is also the name of a classic retro - styled scooter . \" \u001b[31mBlack Cat\u001b[0m \" and \" \u001b[31mKletva\u001b[0m \" are both sung entirely in \u001b[31mBulgarian\u001b[0m . \" \u001b[31mKletva\u001b[0m \" ( which means \" oath \" ) is a cover of a song from a solo album by \u001b[31mKiril Marichkov\u001b[0m of \u001b[31mBulgarian\u001b[0m rock band \u001b[31mShturtzite\u001b[0m . \u001b[31mDaniel Hunt\u001b[0m provided additional vocals on \" \u001b[31mVersus\u001b[0m \" . \u001b[31mVelocifero\u001b[0m spawned three singles : \" \u001b[31mGhosts\u001b[0m \" , \" \u001b[31mRunaway\u001b[0m \" and \" \u001b[31mTomorrow\u001b[0m \" .\n",
      "Hits\n",
      "\u001b[32m{'Ladytron'} record label {'Nettwerk'} \u001b[0m\n",
      "\u001b[32m{'Gravity the Seducer'} performer {'Ladytron'} \u001b[0m\n",
      "\u001b[32m{'velocifero', 'Velocifero'} record label {'Nettwerk'} \u001b[0m\n",
      "\u001b[32m{'velocifero', 'Velocifero'} performer {'Ladytron'} \u001b[0m\n",
      "\u001b[32m{'Tomorrow'} performer {'Ladytron'} \u001b[0m\n",
      "\u001b[32m{'Runaway'} performer {'Ladytron'} \u001b[0m\n",
      "\u001b[32m{'Kletva'} performer {'Ladytron'} \u001b[0m\n",
      "\u001b[32m{'Ghosts'} performer {'Ladytron'} \u001b[0m\n",
      "\u001b[32m{'Black Cat'} performer {'Ladytron'} \u001b[0m\n",
      "False negatives\n",
      "\u001b[31m{'Runaway'} record label {'Nettwerk'} \u001b[0m\n",
      "\u001b[31m{'Tomorrow'} record label {'Nettwerk'} \u001b[0m\n",
      "\u001b[31m{'Ghosts'} record label {'Nettwerk'} \u001b[0m\n",
      "\u001b[31m{'Black Cat'} record label {'Nettwerk'} \u001b[0m\n",
      "\u001b[31m{'Shturtzite'} has part {'Kiril Marichkov'} \u001b[0m\n",
      "False positives\n",
      "\u001b[34m{'Ladytron'} country of origin {'United Kingdom'} \u001b[0m\n",
      "\u001b[34m{'Reuben Wu'} member of {'Ladytron'} \u001b[0m\n",
      "\u001b[34m{'Ladytron'} has part {'Reuben Wu'} \u001b[0m\n",
      "Genc Ruli\n",
      "\u001b[31mGenc Ruli\u001b[0m ( born \u001b[31mApril 11 , 1958\u001b[0m ) is an \u001b[31mAlbanian\u001b[0m politician . A member of the \u001b[31mDemocratic Party of Albania\u001b[0m , ex - Minister of Agriculture , Food , and Consumer Protection in the cabinet of \u001b[31mSali Berisha\u001b[0m . \u001b[31mRuli\u001b[0m holds a bachelor 's degree in \u001b[31mEconomics\u001b[0m and a bachelor 's degree in \u001b[31mLaw\u001b[0m from the \u001b[31mUniversity of Tirana\u001b[0m . He holds a PhD in \u001b[31mEconomics\u001b[0m from the \u001b[31mFaculty of Economics , \u001b[31mUniversity of Tirana\u001b[0m . \u001b[31mRuli\u001b[0m is given the title Professor from the \u001b[31mFaculty of Economics , \u001b[31mUniversity of Tirana\u001b[0m . He has served as a Professor of Finance and Accounting in the \u001b[31mFaculty of Economics\u001b[0m , at the \u001b[31mUniversity of Tirana\u001b[0m . \u001b[31mRuli\u001b[0m has an extensive experience as the Minister of \u001b[31mFinance and Economy\u001b[0m in early \u001b[31m90 ’s\u001b[0m and as the Minister of \u001b[31mEconomy , Trade and Energy\u001b[0m during \u001b[31m2005\u001b[0m - \u001b[31m2009\u001b[0m . \u001b[31mRuli\u001b[0m resigned from his position as Finance Minister on \u001b[31m9 November 1993\u001b[0m , following allegations of corruption . \u001b[31mRuli\u001b[0m has also been one of the Members of the \u001b[31mNational Assembly\u001b[0m during the early \u001b[31m90 ’s\u001b[0m and again since \u001b[31m2005\u001b[0m . He was also the founder and President of the \u001b[31mInstitute of Contemporary Studies\u001b[0m during the years \u001b[31m1996\u001b[0m to \u001b[31m2005\u001b[0m . \u001b[31mRuli\u001b[0m has been engaged in many national and international activities , with well - known organizations and institutions . He has been the Chairman of the \u001b[31mSupervisory Board\u001b[0m , \u001b[31mInsurance Institute\u001b[0m ( \u001b[31mINSIG\u001b[0m ) ; Chairman of the \u001b[31mParliamentary Commission of Economy and Finance\u001b[0m . He is President of the \u001b[31mMountain Areas Development Programme\u001b[0m ( \u001b[31mMADA\u001b[0m ) ; \u001b[31mEBRD\u001b[0m Governor for \u001b[31mAlbania\u001b[0m . \u001b[31mRuli\u001b[0m has written several publications in the areas of economics and public policies .\n",
      "Hits\n",
      "\u001b[32m{'Sali Berisha'} country of citizenship {'Albanian'} \u001b[0m\n",
      "\u001b[32m{'Genc Ruli', 'Ruli'} country of citizenship {'Albanian'} \u001b[0m\n",
      "\u001b[32m{'Democratic Party of Albania'} country {'Albania'} \u001b[0m\n",
      "\u001b[32m{'Democratic Party of Albania'} country {'Albanian'} \u001b[0m\n",
      "\u001b[32m{'Genc Ruli', 'Ruli'} date of birth {'April 11, 1958'} \u001b[0m\n",
      "\u001b[32m{'Genc Ruli', 'Ruli'} member of political party {'Democratic Party of Albania'} \u001b[0m\n",
      "\u001b[32m{'Sali Berisha'} country of citizenship {'Albania'} \u001b[0m\n",
      "\u001b[32m{'Albania'} legislative body {'National Assembly'} \u001b[0m\n",
      "\u001b[32m{'Genc Ruli', 'Ruli'} country of citizenship {'Albania'} \u001b[0m\n",
      "False negatives\n",
      "\u001b[31m{'MADA', 'Mountain Areas Development Programme'} country {'Albania'} \u001b[0m\n",
      "False positives\n",
      "\u001b[34m{'National Assembly'} country {'Albanian'} \u001b[0m\n",
      "\u001b[34m{'Genc Ruli', 'Ruli'} educated at {'University of Tirana'} \u001b[0m\n",
      "\u001b[34m{'National Assembly'} applies to jurisdiction {'Albanian'} \u001b[0m\n",
      "\u001b[34m{'National Assembly'} country {'Albania'} \u001b[0m\n",
      "\u001b[34m{'Genc Ruli', 'Ruli'} educated at {'Faculty of Economics , University of Tirana'} \u001b[0m\n",
      "\u001b[34m{'National Assembly'} applies to jurisdiction {'Albania'} \u001b[0m\n",
      "\u001b[34m{'Albanian'} legislative body {'National Assembly'} \u001b[0m\n",
      "Silvan Elves\n",
      "\u001b[31mSilvan\u001b[0m ( wood elves ) are a type of \u001b[31mElves\u001b[0m in \u001b[31mJ.R.R.\u001b[0m \u001b[31mTolkien\u001b[0m 's fictional universe of \u001b[31mMiddle - earth\u001b[0m , mainly the \u001b[31mElves\u001b[0m of \u001b[31mMirkwood\u001b[0m and \u001b[31mLothlórien\u001b[0m . They are commonly known as \u001b[31mWood - elves\u001b[0m . In the \u001b[31mFirst Age\u001b[0m the \u001b[31mElves\u001b[0m of \u001b[31mOssiriand\u001b[0m , or \u001b[31mLaiquendi\u001b[0m , were also referred to as wood - elves . \u001b[31mSilvan Elves\u001b[0m are mainly \u001b[31mNandor\u001b[0m in descent but also mixed with \u001b[31mAvari\u001b[0m . Many of them were later ruled over by a small population of social elites who were \u001b[31mSindar\u001b[0m ( \u001b[31mGrey Elves\u001b[0m ) or even \u001b[31mNoldor\u001b[0m ( \u001b[31mHigh Elves\u001b[0m ) . For example , \u001b[31mThranduil\u001b[0m king of northern \u001b[31mMirkwood\u001b[0m , as well as his son \u001b[31mLegolas\u001b[0m , were \u001b[31mSindarin Elves\u001b[0m who ruled over a primarily \u001b[31mSilvan\u001b[0m population . Similarly \u001b[31mAmdír\u001b[0m and his son \u001b[31mAmroth\u001b[0m , the last \u001b[31mSindarin\u001b[0m prince of \u001b[31mLorien\u001b[0m , were \u001b[31mSindar\u001b[0m . After \u001b[31mAmroth\u001b[0m was lost at sea , \u001b[31mGaladriel\u001b[0m and \u001b[31mCeleborn\u001b[0m came to rule over \u001b[31mLórien\u001b[0m . \u001b[31mGaladriel\u001b[0m was a \u001b[31mHigh Elf\u001b[0m who belonged to the \u001b[31mHouse of Finarfin\u001b[0m , though she was actually of mixed \u001b[31mVanyar\u001b[0m / \u001b[31mNoldor\u001b[0m / \u001b[31mTelerin\u001b[0m parentage , while \u001b[31mCeleborn\u001b[0m was also \u001b[31mSindarin\u001b[0m ( \u001b[31mSindar\u001b[0m being a subset of the \u001b[31mTeleri\u001b[0m ) . \u001b[31mSilvan Elves\u001b[0m are described as being less wise than other \u001b[31mEldar\u001b[0m , and some of them are almost indistinguishable from the \u001b[31mAvari\u001b[0m , those who never joined the \u001b[31mGreat Journey\u001b[0m .\n",
      "Hits\n",
      "\u001b[32m{'Thranduil'} child {'Legolas'} \u001b[0m\n",
      "\u001b[32m{'Legolas'} father {'Thranduil'} \u001b[0m\n",
      "False negatives\n",
      "\u001b[31m{'Sindarin', 'Grey Elves', 'Sindar', 'Sindarin Elves'} subclass of {'Telerin', 'Teleri'} \u001b[0m\n",
      "\u001b[31m{'Telerin', 'Teleri'} has part {'Sindarin', 'Grey Elves', 'Sindar', 'Sindarin Elves'} \u001b[0m\n",
      "\u001b[31m{'Thranduil'} creator {'Tolkien'} \u001b[0m\n",
      "\u001b[31m{'Avari'} subclass of {'Great Journey'} \u001b[0m\n",
      "\u001b[31m{'Mirkwood'} head of state {'Thranduil'} \u001b[0m\n",
      "\u001b[31m{'Thranduil'} country of citizenship {'Mirkwood'} \u001b[0m\n",
      "\u001b[31m{'Elves'} has part {'Avari'} \u001b[0m\n",
      "\u001b[31m{'Wood - elves', 'Silvan'} subclass of {'Elves'} \u001b[0m\n",
      "\u001b[31m{'Celeborn'} creator {'Tolkien'} \u001b[0m\n",
      "\u001b[31m{'Legolas'} creator {'Tolkien'} \u001b[0m\n",
      "\u001b[31m{'Galadriel'} ethnic group {'House of Finarfin'} \u001b[0m\n",
      "\u001b[31m{'House of Finarfin'} instance of {'Elves'} \u001b[0m\n",
      "\u001b[31m{'House of Finarfin'} ethnic group {'High Elves', 'Noldor', 'High Elf'} \u001b[0m\n",
      "\u001b[31m{'Sindarin', 'Grey Elves', 'Sindar', 'Sindarin Elves'} creator {'Tolkien'} \u001b[0m\n",
      "\u001b[31m{'Lórien', 'Lorien'} located on terrain feature {'Middle-earth'} \u001b[0m\n",
      "\u001b[31m{'Galadriel'} ethnic group {'High Elves', 'Noldor', 'High Elf'} \u001b[0m\n",
      "False positives\n",
      "\u001b[34m{'Lothlórien'} creator {'Tolkien'} \u001b[0m\n",
      "\u001b[34m{'Thranduil'} present in work {'Middle-earth'} \u001b[0m\n",
      "\u001b[34m{'Galadriel'} creator {'J.R.R.'} \u001b[0m\n",
      "\u001b[34m{'Amroth'} father {'Amdír'} \u001b[0m\n",
      "\u001b[34m{'Lothlórien'} creator {'J.R.R.'} \u001b[0m\n",
      "\u001b[34m{'Amdír'} child {'Amroth'} \u001b[0m\n",
      "\u001b[34m{'Middle-earth'} author {'J.R.R.'} \u001b[0m\n",
      "\u001b[34m{'Middle-earth'} author {'Tolkien'} \u001b[0m\n",
      "\u001b[34m{'Amroth'} creator {'J.R.R.'} \u001b[0m\n",
      "\u001b[34m{'Amdír'} present in work {'Middle-earth'} \u001b[0m\n",
      "Piracy on Falcon Lake\n",
      "\u001b[31mPiracy on Falcon Lake\u001b[0m refers to an increase in crime at the border between \u001b[31mthe United States\u001b[0m and \u001b[31mMexico\u001b[0m on \u001b[31mFalcon Lake\u001b[0m . The lake is a long reservoir of the \u001b[31mRio Grande\u001b[0m that was constructed in \u001b[31m1954\u001b[0m and is a known drug smuggling route . A turf war between rival drug cartels for control of the lake began in \u001b[31mMarch 2010\u001b[0m and has led to a series of armed robberies and shooting incidents . All of the attacks were credited to the \u001b[31mLos Zetas\u001b[0m cartel and occurred primarily on the \u001b[31mMexican\u001b[0m side of the reservoir but within sight of the \u001b[31mTexas\u001b[0m coast . The so - called pirates operate \" fleets \" of small boats designed to seize fisherman and smuggle drugs . While the events have been referred to colloquially as piracy , all the waters of \u001b[31mFalcon Lake\u001b[0m are considered either \u001b[31mUS\u001b[0m or \u001b[31mMexican\u001b[0m territorial waters and therefore are not technically piracy under Article 101 of the \u001b[31mUN Convention on the Law of the Sea\u001b[0m .\n",
      "Hits\n",
      "\u001b[32m{'Texas'} country {'US', 'the United States'} \u001b[0m\n",
      "False negatives\n",
      "\u001b[31m{'Falcon Lake'} located in the administrative territorial entity {'Texas'} \u001b[0m\n",
      "\u001b[31m{'US', 'the United States'} contains administrative territorial entity {'Texas'} \u001b[0m\n",
      "\u001b[31m{'Piracy on Falcon Lake'} country {'US', 'the United States'} \u001b[0m\n",
      "\u001b[31m{'Falcon Lake'} country {'Mexico'} \u001b[0m\n",
      "\u001b[31m{'Texas'} located in the administrative territorial entity {'US', 'the United States'} \u001b[0m\n",
      "\u001b[31m{'Falcon Lake'} country {'Mexican'} \u001b[0m\n",
      "\u001b[31m{'Falcon Lake'} country {'US', 'the United States'} \u001b[0m\n",
      "False positives\n",
      "Yandina, Solomon Islands\n",
      "\u001b[31mYandina\u001b[0m is a town on \u001b[31mMbanika Island\u001b[0m in the \u001b[31mRussell Islands\u001b[0m , in the \u001b[31mCentral Province\u001b[0m of \u001b[31mSolomon Islands\u001b[0m . It is a port , and an airport ( \u001b[31mICAO\u001b[0m code : AGGY , \u001b[31mIATA\u001b[0m code : XYA ) . \u001b[31mYandina\u001b[0m is the site of a copra and cocoa plantation and has basic services such as a store , post office , and rest house . The \u001b[31mYandina\u001b[0m police station was the scene of one of the opening events of the ethnic tensions , where a group of men raided the armoury and stole high powered weapons and ammunition . The group involved became known as the \u001b[31mGuadalcanal Revolutionary Army\u001b[0m , and later as \u001b[31mIsatabu Freedom Movement\u001b[0m . \u001b[31mYandina\u001b[0m is the site of one of the \u001b[31mRAMSI\u001b[0m posts . \u001b[31mYandina\u001b[0m is also known as a diving destination .\n",
      "Hits\n",
      "\u001b[32m{'Solomon Islands'} contains administrative territorial entity {'Central Province'} \u001b[0m\n",
      "False negatives\n",
      "\u001b[31m{'Central Province'} located in the administrative territorial entity {'Solomon Islands'} \u001b[0m\n",
      "\u001b[31m{'Russell Islands'} country {'Solomon Islands'} \u001b[0m\n",
      "\u001b[31m{'Mbanika Island'} country {'Solomon Islands'} \u001b[0m\n",
      "\u001b[31m{'Russell Islands'} located in the administrative territorial entity {'Central Province'} \u001b[0m\n",
      "\u001b[31m{'Yandina'} located on terrain feature {'Mbanika Island'} \u001b[0m\n",
      "\u001b[31m{'Central Province'} country {'Solomon Islands'} \u001b[0m\n",
      "False positives\n",
      "\u001b[34m{'Russell Islands'} located in the administrative territorial entity {'Solomon Islands'} \u001b[0m\n",
      "\u001b[34m{'Mbanika Island'} located in the administrative territorial entity {'Solomon Islands'} \u001b[0m\n",
      "\u001b[34m{'Mbanika Island'} located on terrain feature {'Russell Islands'} \u001b[0m\n",
      "\u001b[34m{'Mbanika Island'} part of {'Russell Islands'} \u001b[0m\n",
      "\u001b[34m{'Solomon Islands'} contains administrative territorial entity {'Russell Islands'} \u001b[0m\n",
      "\u001b[34m{'Mbanika Island'} located in the administrative territorial entity {'Russell Islands'} \u001b[0m\n"
     ]
    }
   ],
   "source": [
    "RED = '\\033[31m'\n",
    "GREEN = '\\033[32m'\n",
    "BLUE = '\\033[34m'\n",
    "for title in random.sample(docs.keys(), k=5):\n",
    "    labels, sents, verts = docs[title]\n",
    "    rel_true = set((d['h'], d['t'], d['r']) for d in labels)\n",
    "    rel_pred = set(predictions_by_title[title])\n",
    "    if rel_true != rel_pred:\n",
    "        print(title)\n",
    "        startsl, endsl = [set() for _ in sents], [set() for _ in sents]\n",
    "        for vert in verts:\n",
    "            for d in vert:\n",
    "                start, end = d['pos']\n",
    "                startsl[d['sent_id']].add(start)\n",
    "                endsl[d['sent_id']].add(end - 1)\n",
    "        print(' '.join(' '.join(f\"{RED if j in starts else ''}{tok}{ENDC if j in ends else ''}\"\n",
    "                                for j, tok in enumerate(sent)) for sent, starts, ends in zip(sents, startsl, endsl)))\n",
    "\n",
    "        def func(h, t, r, c):\n",
    "            names = lambda v: set(d['name'] for d in verts[v])\n",
    "            print(f'{c}{names(h)}', rel2txt[r], f'{names(t)}', ENDC)\n",
    "\n",
    "        print('Hits')\n",
    "        for h, t, r in rel_true & rel_pred:\n",
    "            func(h, t, r, GREEN)\n",
    "\n",
    "        print('False negatives')\n",
    "        for h, t, r in rel_true - rel_pred:\n",
    "            func(h, t, r, RED)\n",
    "\n",
    "        print('False positives')\n",
    "        for h, t, r in rel_pred - rel_true:\n",
    "            func(h, t, r, BLUE)"
   ]
  }
 ],
 "metadata": {
  "kernelspec": {
   "display_name": "Python 3",
   "language": "python",
   "name": "python3"
  },
  "language_info": {
   "codemirror_mode": {
    "name": "ipython",
    "version": 3
   },
   "file_extension": ".py",
   "mimetype": "text/x-python",
   "name": "python",
   "nbconvert_exporter": "python",
   "pygments_lexer": "ipython3",
   "version": "3.7.10"
  }
 },
 "nbformat": 4,
 "nbformat_minor": 4
}
